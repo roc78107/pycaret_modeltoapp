{
 "cells": [
  {
   "cell_type": "markdown",
   "id": "dbff676e",
   "metadata": {
    "ExecuteTime": {
     "end_time": "2021-05-17T07:23:29.702261Z",
     "start_time": "2021-05-17T07:23:29.688298Z"
    }
   },
   "source": [
    "\\\n",
    "<span style=\"color:white; background-color:#B20000; font-size:50px\">先講結論</span>\n",
    "1. 本章大抵來說就是教集成方法，其他在教學目標中有提的項目沒有細講。\n",
    "2. 最後透過 mlflow 提供了一個檢視全部訓練模型的介面，但僅言盡於此，沒有說有甚麼用途。"
   ]
  },
  {
   "cell_type": "markdown",
   "id": "756b3592",
   "metadata": {},
   "source": [
    "本文源自\n",
    "- https://www.kaggle.com/mirichoi0218/insurance#insurance.csv\n",
    "- https://towardsdatascience.com/build-and-deploy-your-first-machine-learning-web-app-e020db344a99"
   ]
  },
  {
   "cell_type": "markdown",
   "id": "fbb58ebf",
   "metadata": {},
   "source": [
    "# 資料引入"
   ]
  },
  {
   "cell_type": "code",
   "execution_count": 1,
   "id": "74bbc33b",
   "metadata": {
    "ExecuteTime": {
     "end_time": "2021-05-18T03:27:45.573628Z",
     "start_time": "2021-05-18T03:27:45.121798Z"
    }
   },
   "outputs": [
    {
     "data": {
      "text/html": [
       "<div>\n",
       "<style scoped>\n",
       "    .dataframe tbody tr th:only-of-type {\n",
       "        vertical-align: middle;\n",
       "    }\n",
       "\n",
       "    .dataframe tbody tr th {\n",
       "        vertical-align: top;\n",
       "    }\n",
       "\n",
       "    .dataframe thead th {\n",
       "        text-align: right;\n",
       "    }\n",
       "</style>\n",
       "<table border=\"1\" class=\"dataframe\">\n",
       "  <thead>\n",
       "    <tr style=\"text-align: right;\">\n",
       "      <th></th>\n",
       "      <th>age</th>\n",
       "      <th>sex</th>\n",
       "      <th>bmi</th>\n",
       "      <th>children</th>\n",
       "      <th>smoker</th>\n",
       "      <th>region</th>\n",
       "      <th>charges</th>\n",
       "    </tr>\n",
       "  </thead>\n",
       "  <tbody>\n",
       "    <tr>\n",
       "      <th>0</th>\n",
       "      <td>19</td>\n",
       "      <td>female</td>\n",
       "      <td>27.900</td>\n",
       "      <td>0</td>\n",
       "      <td>yes</td>\n",
       "      <td>southwest</td>\n",
       "      <td>16884.92400</td>\n",
       "    </tr>\n",
       "    <tr>\n",
       "      <th>1</th>\n",
       "      <td>18</td>\n",
       "      <td>male</td>\n",
       "      <td>33.770</td>\n",
       "      <td>1</td>\n",
       "      <td>no</td>\n",
       "      <td>southeast</td>\n",
       "      <td>1725.55230</td>\n",
       "    </tr>\n",
       "    <tr>\n",
       "      <th>2</th>\n",
       "      <td>28</td>\n",
       "      <td>male</td>\n",
       "      <td>33.000</td>\n",
       "      <td>3</td>\n",
       "      <td>no</td>\n",
       "      <td>southeast</td>\n",
       "      <td>4449.46200</td>\n",
       "    </tr>\n",
       "    <tr>\n",
       "      <th>3</th>\n",
       "      <td>33</td>\n",
       "      <td>male</td>\n",
       "      <td>22.705</td>\n",
       "      <td>0</td>\n",
       "      <td>no</td>\n",
       "      <td>northwest</td>\n",
       "      <td>21984.47061</td>\n",
       "    </tr>\n",
       "    <tr>\n",
       "      <th>4</th>\n",
       "      <td>32</td>\n",
       "      <td>male</td>\n",
       "      <td>28.880</td>\n",
       "      <td>0</td>\n",
       "      <td>no</td>\n",
       "      <td>northwest</td>\n",
       "      <td>3866.85520</td>\n",
       "    </tr>\n",
       "    <tr>\n",
       "      <th>...</th>\n",
       "      <td>...</td>\n",
       "      <td>...</td>\n",
       "      <td>...</td>\n",
       "      <td>...</td>\n",
       "      <td>...</td>\n",
       "      <td>...</td>\n",
       "      <td>...</td>\n",
       "    </tr>\n",
       "    <tr>\n",
       "      <th>1333</th>\n",
       "      <td>50</td>\n",
       "      <td>male</td>\n",
       "      <td>30.970</td>\n",
       "      <td>3</td>\n",
       "      <td>no</td>\n",
       "      <td>northwest</td>\n",
       "      <td>10600.54830</td>\n",
       "    </tr>\n",
       "    <tr>\n",
       "      <th>1334</th>\n",
       "      <td>18</td>\n",
       "      <td>female</td>\n",
       "      <td>31.920</td>\n",
       "      <td>0</td>\n",
       "      <td>no</td>\n",
       "      <td>northeast</td>\n",
       "      <td>2205.98080</td>\n",
       "    </tr>\n",
       "    <tr>\n",
       "      <th>1335</th>\n",
       "      <td>18</td>\n",
       "      <td>female</td>\n",
       "      <td>36.850</td>\n",
       "      <td>0</td>\n",
       "      <td>no</td>\n",
       "      <td>southeast</td>\n",
       "      <td>1629.83350</td>\n",
       "    </tr>\n",
       "    <tr>\n",
       "      <th>1336</th>\n",
       "      <td>21</td>\n",
       "      <td>female</td>\n",
       "      <td>25.800</td>\n",
       "      <td>0</td>\n",
       "      <td>no</td>\n",
       "      <td>southwest</td>\n",
       "      <td>2007.94500</td>\n",
       "    </tr>\n",
       "    <tr>\n",
       "      <th>1337</th>\n",
       "      <td>61</td>\n",
       "      <td>female</td>\n",
       "      <td>29.070</td>\n",
       "      <td>0</td>\n",
       "      <td>yes</td>\n",
       "      <td>northwest</td>\n",
       "      <td>29141.36030</td>\n",
       "    </tr>\n",
       "  </tbody>\n",
       "</table>\n",
       "<p>1338 rows × 7 columns</p>\n",
       "</div>"
      ],
      "text/plain": [
       "      age     sex     bmi  children smoker     region      charges\n",
       "0      19  female  27.900         0    yes  southwest  16884.92400\n",
       "1      18    male  33.770         1     no  southeast   1725.55230\n",
       "2      28    male  33.000         3     no  southeast   4449.46200\n",
       "3      33    male  22.705         0     no  northwest  21984.47061\n",
       "4      32    male  28.880         0     no  northwest   3866.85520\n",
       "...   ...     ...     ...       ...    ...        ...          ...\n",
       "1333   50    male  30.970         3     no  northwest  10600.54830\n",
       "1334   18  female  31.920         0     no  northeast   2205.98080\n",
       "1335   18  female  36.850         0     no  southeast   1629.83350\n",
       "1336   21  female  25.800         0     no  southwest   2007.94500\n",
       "1337   61  female  29.070         0    yes  northwest  29141.36030\n",
       "\n",
       "[1338 rows x 7 columns]"
      ]
     },
     "execution_count": 1,
     "metadata": {},
     "output_type": "execute_result"
    }
   ],
   "source": [
    "# read the csv file\n",
    "import pandas as pd\n",
    "data = pd.read_csv('insurance.csv')\n",
    "data"
   ]
  },
  {
   "cell_type": "markdown",
   "id": "353435ab",
   "metadata": {
    "ExecuteTime": {
     "end_time": "2021-05-17T07:27:48.710648Z",
     "start_time": "2021-05-17T07:27:40.649311Z"
    }
   },
   "source": [
    "# 模型訓練\n",
    "- 我們直接以原文的實驗2進行\n",
    "- 原文挑選 lr，但根據實測 gbr 可能才是較佳的選擇\n",
    "- 經過計算，若未指定訓練集與驗證集，pycaret 預設的比例是訓練集 70%、驗證集 30%"
   ]
  },
  {
   "cell_type": "code",
   "execution_count": 2,
   "id": "acf2211b",
   "metadata": {
    "ExecuteTime": {
     "end_time": "2021-05-18T03:28:20.649605Z",
     "start_time": "2021-05-18T03:27:45.576600Z"
    }
   },
   "outputs": [
    {
     "data": {
      "text/html": [
       "<style  type=\"text/css\" >\n",
       "#T_17f8fd9e_b789_11eb_8ce7_544cf75f5f01row27_col1,#T_17f8fd9e_b789_11eb_8ce7_544cf75f5f01row37_col1,#T_17f8fd9e_b789_11eb_8ce7_544cf75f5f01row44_col1,#T_17f8fd9e_b789_11eb_8ce7_544cf75f5f01row46_col1,#T_17f8fd9e_b789_11eb_8ce7_544cf75f5f01row52_col1{\n",
       "            background-color:  lightgreen;\n",
       "        }</style><table id=\"T_17f8fd9e_b789_11eb_8ce7_544cf75f5f01\" ><thead>    <tr>        <th class=\"blank level0\" ></th>        <th class=\"col_heading level0 col0\" >Description</th>        <th class=\"col_heading level0 col1\" >Value</th>    </tr></thead><tbody>\n",
       "                <tr>\n",
       "                        <th id=\"T_17f8fd9e_b789_11eb_8ce7_544cf75f5f01level0_row0\" class=\"row_heading level0 row0\" >0</th>\n",
       "                        <td id=\"T_17f8fd9e_b789_11eb_8ce7_544cf75f5f01row0_col0\" class=\"data row0 col0\" >session_id</td>\n",
       "                        <td id=\"T_17f8fd9e_b789_11eb_8ce7_544cf75f5f01row0_col1\" class=\"data row0 col1\" >123</td>\n",
       "            </tr>\n",
       "            <tr>\n",
       "                        <th id=\"T_17f8fd9e_b789_11eb_8ce7_544cf75f5f01level0_row1\" class=\"row_heading level0 row1\" >1</th>\n",
       "                        <td id=\"T_17f8fd9e_b789_11eb_8ce7_544cf75f5f01row1_col0\" class=\"data row1 col0\" >Target</td>\n",
       "                        <td id=\"T_17f8fd9e_b789_11eb_8ce7_544cf75f5f01row1_col1\" class=\"data row1 col1\" >charges</td>\n",
       "            </tr>\n",
       "            <tr>\n",
       "                        <th id=\"T_17f8fd9e_b789_11eb_8ce7_544cf75f5f01level0_row2\" class=\"row_heading level0 row2\" >2</th>\n",
       "                        <td id=\"T_17f8fd9e_b789_11eb_8ce7_544cf75f5f01row2_col0\" class=\"data row2 col0\" >Original Data</td>\n",
       "                        <td id=\"T_17f8fd9e_b789_11eb_8ce7_544cf75f5f01row2_col1\" class=\"data row2 col1\" >(1338, 7)</td>\n",
       "            </tr>\n",
       "            <tr>\n",
       "                        <th id=\"T_17f8fd9e_b789_11eb_8ce7_544cf75f5f01level0_row3\" class=\"row_heading level0 row3\" >3</th>\n",
       "                        <td id=\"T_17f8fd9e_b789_11eb_8ce7_544cf75f5f01row3_col0\" class=\"data row3 col0\" >Missing Values</td>\n",
       "                        <td id=\"T_17f8fd9e_b789_11eb_8ce7_544cf75f5f01row3_col1\" class=\"data row3 col1\" >False</td>\n",
       "            </tr>\n",
       "            <tr>\n",
       "                        <th id=\"T_17f8fd9e_b789_11eb_8ce7_544cf75f5f01level0_row4\" class=\"row_heading level0 row4\" >4</th>\n",
       "                        <td id=\"T_17f8fd9e_b789_11eb_8ce7_544cf75f5f01row4_col0\" class=\"data row4 col0\" >Numeric Features</td>\n",
       "                        <td id=\"T_17f8fd9e_b789_11eb_8ce7_544cf75f5f01row4_col1\" class=\"data row4 col1\" >2</td>\n",
       "            </tr>\n",
       "            <tr>\n",
       "                        <th id=\"T_17f8fd9e_b789_11eb_8ce7_544cf75f5f01level0_row5\" class=\"row_heading level0 row5\" >5</th>\n",
       "                        <td id=\"T_17f8fd9e_b789_11eb_8ce7_544cf75f5f01row5_col0\" class=\"data row5 col0\" >Categorical Features</td>\n",
       "                        <td id=\"T_17f8fd9e_b789_11eb_8ce7_544cf75f5f01row5_col1\" class=\"data row5 col1\" >4</td>\n",
       "            </tr>\n",
       "            <tr>\n",
       "                        <th id=\"T_17f8fd9e_b789_11eb_8ce7_544cf75f5f01level0_row6\" class=\"row_heading level0 row6\" >6</th>\n",
       "                        <td id=\"T_17f8fd9e_b789_11eb_8ce7_544cf75f5f01row6_col0\" class=\"data row6 col0\" >Ordinal Features</td>\n",
       "                        <td id=\"T_17f8fd9e_b789_11eb_8ce7_544cf75f5f01row6_col1\" class=\"data row6 col1\" >False</td>\n",
       "            </tr>\n",
       "            <tr>\n",
       "                        <th id=\"T_17f8fd9e_b789_11eb_8ce7_544cf75f5f01level0_row7\" class=\"row_heading level0 row7\" >7</th>\n",
       "                        <td id=\"T_17f8fd9e_b789_11eb_8ce7_544cf75f5f01row7_col0\" class=\"data row7 col0\" >High Cardinality Features</td>\n",
       "                        <td id=\"T_17f8fd9e_b789_11eb_8ce7_544cf75f5f01row7_col1\" class=\"data row7 col1\" >False</td>\n",
       "            </tr>\n",
       "            <tr>\n",
       "                        <th id=\"T_17f8fd9e_b789_11eb_8ce7_544cf75f5f01level0_row8\" class=\"row_heading level0 row8\" >8</th>\n",
       "                        <td id=\"T_17f8fd9e_b789_11eb_8ce7_544cf75f5f01row8_col0\" class=\"data row8 col0\" >High Cardinality Method</td>\n",
       "                        <td id=\"T_17f8fd9e_b789_11eb_8ce7_544cf75f5f01row8_col1\" class=\"data row8 col1\" >None</td>\n",
       "            </tr>\n",
       "            <tr>\n",
       "                        <th id=\"T_17f8fd9e_b789_11eb_8ce7_544cf75f5f01level0_row9\" class=\"row_heading level0 row9\" >9</th>\n",
       "                        <td id=\"T_17f8fd9e_b789_11eb_8ce7_544cf75f5f01row9_col0\" class=\"data row9 col0\" >Transformed Train Set</td>\n",
       "                        <td id=\"T_17f8fd9e_b789_11eb_8ce7_544cf75f5f01row9_col1\" class=\"data row9 col1\" >(936, 56)</td>\n",
       "            </tr>\n",
       "            <tr>\n",
       "                        <th id=\"T_17f8fd9e_b789_11eb_8ce7_544cf75f5f01level0_row10\" class=\"row_heading level0 row10\" >10</th>\n",
       "                        <td id=\"T_17f8fd9e_b789_11eb_8ce7_544cf75f5f01row10_col0\" class=\"data row10 col0\" >Transformed Test Set</td>\n",
       "                        <td id=\"T_17f8fd9e_b789_11eb_8ce7_544cf75f5f01row10_col1\" class=\"data row10 col1\" >(402, 56)</td>\n",
       "            </tr>\n",
       "            <tr>\n",
       "                        <th id=\"T_17f8fd9e_b789_11eb_8ce7_544cf75f5f01level0_row11\" class=\"row_heading level0 row11\" >11</th>\n",
       "                        <td id=\"T_17f8fd9e_b789_11eb_8ce7_544cf75f5f01row11_col0\" class=\"data row11 col0\" >Shuffle Train-Test</td>\n",
       "                        <td id=\"T_17f8fd9e_b789_11eb_8ce7_544cf75f5f01row11_col1\" class=\"data row11 col1\" >True</td>\n",
       "            </tr>\n",
       "            <tr>\n",
       "                        <th id=\"T_17f8fd9e_b789_11eb_8ce7_544cf75f5f01level0_row12\" class=\"row_heading level0 row12\" >12</th>\n",
       "                        <td id=\"T_17f8fd9e_b789_11eb_8ce7_544cf75f5f01row12_col0\" class=\"data row12 col0\" >Stratify Train-Test</td>\n",
       "                        <td id=\"T_17f8fd9e_b789_11eb_8ce7_544cf75f5f01row12_col1\" class=\"data row12 col1\" >False</td>\n",
       "            </tr>\n",
       "            <tr>\n",
       "                        <th id=\"T_17f8fd9e_b789_11eb_8ce7_544cf75f5f01level0_row13\" class=\"row_heading level0 row13\" >13</th>\n",
       "                        <td id=\"T_17f8fd9e_b789_11eb_8ce7_544cf75f5f01row13_col0\" class=\"data row13 col0\" >Fold Generator</td>\n",
       "                        <td id=\"T_17f8fd9e_b789_11eb_8ce7_544cf75f5f01row13_col1\" class=\"data row13 col1\" >KFold</td>\n",
       "            </tr>\n",
       "            <tr>\n",
       "                        <th id=\"T_17f8fd9e_b789_11eb_8ce7_544cf75f5f01level0_row14\" class=\"row_heading level0 row14\" >14</th>\n",
       "                        <td id=\"T_17f8fd9e_b789_11eb_8ce7_544cf75f5f01row14_col0\" class=\"data row14 col0\" >Fold Number</td>\n",
       "                        <td id=\"T_17f8fd9e_b789_11eb_8ce7_544cf75f5f01row14_col1\" class=\"data row14 col1\" >10</td>\n",
       "            </tr>\n",
       "            <tr>\n",
       "                        <th id=\"T_17f8fd9e_b789_11eb_8ce7_544cf75f5f01level0_row15\" class=\"row_heading level0 row15\" >15</th>\n",
       "                        <td id=\"T_17f8fd9e_b789_11eb_8ce7_544cf75f5f01row15_col0\" class=\"data row15 col0\" >CPU Jobs</td>\n",
       "                        <td id=\"T_17f8fd9e_b789_11eb_8ce7_544cf75f5f01row15_col1\" class=\"data row15 col1\" >-1</td>\n",
       "            </tr>\n",
       "            <tr>\n",
       "                        <th id=\"T_17f8fd9e_b789_11eb_8ce7_544cf75f5f01level0_row16\" class=\"row_heading level0 row16\" >16</th>\n",
       "                        <td id=\"T_17f8fd9e_b789_11eb_8ce7_544cf75f5f01row16_col0\" class=\"data row16 col0\" >Use GPU</td>\n",
       "                        <td id=\"T_17f8fd9e_b789_11eb_8ce7_544cf75f5f01row16_col1\" class=\"data row16 col1\" >False</td>\n",
       "            </tr>\n",
       "            <tr>\n",
       "                        <th id=\"T_17f8fd9e_b789_11eb_8ce7_544cf75f5f01level0_row17\" class=\"row_heading level0 row17\" >17</th>\n",
       "                        <td id=\"T_17f8fd9e_b789_11eb_8ce7_544cf75f5f01row17_col0\" class=\"data row17 col0\" >Log Experiment</td>\n",
       "                        <td id=\"T_17f8fd9e_b789_11eb_8ce7_544cf75f5f01row17_col1\" class=\"data row17 col1\" >False</td>\n",
       "            </tr>\n",
       "            <tr>\n",
       "                        <th id=\"T_17f8fd9e_b789_11eb_8ce7_544cf75f5f01level0_row18\" class=\"row_heading level0 row18\" >18</th>\n",
       "                        <td id=\"T_17f8fd9e_b789_11eb_8ce7_544cf75f5f01row18_col0\" class=\"data row18 col0\" >Experiment Name</td>\n",
       "                        <td id=\"T_17f8fd9e_b789_11eb_8ce7_544cf75f5f01row18_col1\" class=\"data row18 col1\" >reg-default-name</td>\n",
       "            </tr>\n",
       "            <tr>\n",
       "                        <th id=\"T_17f8fd9e_b789_11eb_8ce7_544cf75f5f01level0_row19\" class=\"row_heading level0 row19\" >19</th>\n",
       "                        <td id=\"T_17f8fd9e_b789_11eb_8ce7_544cf75f5f01row19_col0\" class=\"data row19 col0\" >USI</td>\n",
       "                        <td id=\"T_17f8fd9e_b789_11eb_8ce7_544cf75f5f01row19_col1\" class=\"data row19 col1\" >743e</td>\n",
       "            </tr>\n",
       "            <tr>\n",
       "                        <th id=\"T_17f8fd9e_b789_11eb_8ce7_544cf75f5f01level0_row20\" class=\"row_heading level0 row20\" >20</th>\n",
       "                        <td id=\"T_17f8fd9e_b789_11eb_8ce7_544cf75f5f01row20_col0\" class=\"data row20 col0\" >Imputation Type</td>\n",
       "                        <td id=\"T_17f8fd9e_b789_11eb_8ce7_544cf75f5f01row20_col1\" class=\"data row20 col1\" >simple</td>\n",
       "            </tr>\n",
       "            <tr>\n",
       "                        <th id=\"T_17f8fd9e_b789_11eb_8ce7_544cf75f5f01level0_row21\" class=\"row_heading level0 row21\" >21</th>\n",
       "                        <td id=\"T_17f8fd9e_b789_11eb_8ce7_544cf75f5f01row21_col0\" class=\"data row21 col0\" >Iterative Imputation Iteration</td>\n",
       "                        <td id=\"T_17f8fd9e_b789_11eb_8ce7_544cf75f5f01row21_col1\" class=\"data row21 col1\" >None</td>\n",
       "            </tr>\n",
       "            <tr>\n",
       "                        <th id=\"T_17f8fd9e_b789_11eb_8ce7_544cf75f5f01level0_row22\" class=\"row_heading level0 row22\" >22</th>\n",
       "                        <td id=\"T_17f8fd9e_b789_11eb_8ce7_544cf75f5f01row22_col0\" class=\"data row22 col0\" >Numeric Imputer</td>\n",
       "                        <td id=\"T_17f8fd9e_b789_11eb_8ce7_544cf75f5f01row22_col1\" class=\"data row22 col1\" >mean</td>\n",
       "            </tr>\n",
       "            <tr>\n",
       "                        <th id=\"T_17f8fd9e_b789_11eb_8ce7_544cf75f5f01level0_row23\" class=\"row_heading level0 row23\" >23</th>\n",
       "                        <td id=\"T_17f8fd9e_b789_11eb_8ce7_544cf75f5f01row23_col0\" class=\"data row23 col0\" >Iterative Imputation Numeric Model</td>\n",
       "                        <td id=\"T_17f8fd9e_b789_11eb_8ce7_544cf75f5f01row23_col1\" class=\"data row23 col1\" >None</td>\n",
       "            </tr>\n",
       "            <tr>\n",
       "                        <th id=\"T_17f8fd9e_b789_11eb_8ce7_544cf75f5f01level0_row24\" class=\"row_heading level0 row24\" >24</th>\n",
       "                        <td id=\"T_17f8fd9e_b789_11eb_8ce7_544cf75f5f01row24_col0\" class=\"data row24 col0\" >Categorical Imputer</td>\n",
       "                        <td id=\"T_17f8fd9e_b789_11eb_8ce7_544cf75f5f01row24_col1\" class=\"data row24 col1\" >constant</td>\n",
       "            </tr>\n",
       "            <tr>\n",
       "                        <th id=\"T_17f8fd9e_b789_11eb_8ce7_544cf75f5f01level0_row25\" class=\"row_heading level0 row25\" >25</th>\n",
       "                        <td id=\"T_17f8fd9e_b789_11eb_8ce7_544cf75f5f01row25_col0\" class=\"data row25 col0\" >Iterative Imputation Categorical Model</td>\n",
       "                        <td id=\"T_17f8fd9e_b789_11eb_8ce7_544cf75f5f01row25_col1\" class=\"data row25 col1\" >None</td>\n",
       "            </tr>\n",
       "            <tr>\n",
       "                        <th id=\"T_17f8fd9e_b789_11eb_8ce7_544cf75f5f01level0_row26\" class=\"row_heading level0 row26\" >26</th>\n",
       "                        <td id=\"T_17f8fd9e_b789_11eb_8ce7_544cf75f5f01row26_col0\" class=\"data row26 col0\" >Unknown Categoricals Handling</td>\n",
       "                        <td id=\"T_17f8fd9e_b789_11eb_8ce7_544cf75f5f01row26_col1\" class=\"data row26 col1\" >least_frequent</td>\n",
       "            </tr>\n",
       "            <tr>\n",
       "                        <th id=\"T_17f8fd9e_b789_11eb_8ce7_544cf75f5f01level0_row27\" class=\"row_heading level0 row27\" >27</th>\n",
       "                        <td id=\"T_17f8fd9e_b789_11eb_8ce7_544cf75f5f01row27_col0\" class=\"data row27 col0\" >Normalize</td>\n",
       "                        <td id=\"T_17f8fd9e_b789_11eb_8ce7_544cf75f5f01row27_col1\" class=\"data row27 col1\" >True</td>\n",
       "            </tr>\n",
       "            <tr>\n",
       "                        <th id=\"T_17f8fd9e_b789_11eb_8ce7_544cf75f5f01level0_row28\" class=\"row_heading level0 row28\" >28</th>\n",
       "                        <td id=\"T_17f8fd9e_b789_11eb_8ce7_544cf75f5f01row28_col0\" class=\"data row28 col0\" >Normalize Method</td>\n",
       "                        <td id=\"T_17f8fd9e_b789_11eb_8ce7_544cf75f5f01row28_col1\" class=\"data row28 col1\" >zscore</td>\n",
       "            </tr>\n",
       "            <tr>\n",
       "                        <th id=\"T_17f8fd9e_b789_11eb_8ce7_544cf75f5f01level0_row29\" class=\"row_heading level0 row29\" >29</th>\n",
       "                        <td id=\"T_17f8fd9e_b789_11eb_8ce7_544cf75f5f01row29_col0\" class=\"data row29 col0\" >Transformation</td>\n",
       "                        <td id=\"T_17f8fd9e_b789_11eb_8ce7_544cf75f5f01row29_col1\" class=\"data row29 col1\" >False</td>\n",
       "            </tr>\n",
       "            <tr>\n",
       "                        <th id=\"T_17f8fd9e_b789_11eb_8ce7_544cf75f5f01level0_row30\" class=\"row_heading level0 row30\" >30</th>\n",
       "                        <td id=\"T_17f8fd9e_b789_11eb_8ce7_544cf75f5f01row30_col0\" class=\"data row30 col0\" >Transformation Method</td>\n",
       "                        <td id=\"T_17f8fd9e_b789_11eb_8ce7_544cf75f5f01row30_col1\" class=\"data row30 col1\" >None</td>\n",
       "            </tr>\n",
       "            <tr>\n",
       "                        <th id=\"T_17f8fd9e_b789_11eb_8ce7_544cf75f5f01level0_row31\" class=\"row_heading level0 row31\" >31</th>\n",
       "                        <td id=\"T_17f8fd9e_b789_11eb_8ce7_544cf75f5f01row31_col0\" class=\"data row31 col0\" >PCA</td>\n",
       "                        <td id=\"T_17f8fd9e_b789_11eb_8ce7_544cf75f5f01row31_col1\" class=\"data row31 col1\" >False</td>\n",
       "            </tr>\n",
       "            <tr>\n",
       "                        <th id=\"T_17f8fd9e_b789_11eb_8ce7_544cf75f5f01level0_row32\" class=\"row_heading level0 row32\" >32</th>\n",
       "                        <td id=\"T_17f8fd9e_b789_11eb_8ce7_544cf75f5f01row32_col0\" class=\"data row32 col0\" >PCA Method</td>\n",
       "                        <td id=\"T_17f8fd9e_b789_11eb_8ce7_544cf75f5f01row32_col1\" class=\"data row32 col1\" >None</td>\n",
       "            </tr>\n",
       "            <tr>\n",
       "                        <th id=\"T_17f8fd9e_b789_11eb_8ce7_544cf75f5f01level0_row33\" class=\"row_heading level0 row33\" >33</th>\n",
       "                        <td id=\"T_17f8fd9e_b789_11eb_8ce7_544cf75f5f01row33_col0\" class=\"data row33 col0\" >PCA Components</td>\n",
       "                        <td id=\"T_17f8fd9e_b789_11eb_8ce7_544cf75f5f01row33_col1\" class=\"data row33 col1\" >None</td>\n",
       "            </tr>\n",
       "            <tr>\n",
       "                        <th id=\"T_17f8fd9e_b789_11eb_8ce7_544cf75f5f01level0_row34\" class=\"row_heading level0 row34\" >34</th>\n",
       "                        <td id=\"T_17f8fd9e_b789_11eb_8ce7_544cf75f5f01row34_col0\" class=\"data row34 col0\" >Ignore Low Variance</td>\n",
       "                        <td id=\"T_17f8fd9e_b789_11eb_8ce7_544cf75f5f01row34_col1\" class=\"data row34 col1\" >False</td>\n",
       "            </tr>\n",
       "            <tr>\n",
       "                        <th id=\"T_17f8fd9e_b789_11eb_8ce7_544cf75f5f01level0_row35\" class=\"row_heading level0 row35\" >35</th>\n",
       "                        <td id=\"T_17f8fd9e_b789_11eb_8ce7_544cf75f5f01row35_col0\" class=\"data row35 col0\" >Combine Rare Levels</td>\n",
       "                        <td id=\"T_17f8fd9e_b789_11eb_8ce7_544cf75f5f01row35_col1\" class=\"data row35 col1\" >False</td>\n",
       "            </tr>\n",
       "            <tr>\n",
       "                        <th id=\"T_17f8fd9e_b789_11eb_8ce7_544cf75f5f01level0_row36\" class=\"row_heading level0 row36\" >36</th>\n",
       "                        <td id=\"T_17f8fd9e_b789_11eb_8ce7_544cf75f5f01row36_col0\" class=\"data row36 col0\" >Rare Level Threshold</td>\n",
       "                        <td id=\"T_17f8fd9e_b789_11eb_8ce7_544cf75f5f01row36_col1\" class=\"data row36 col1\" >None</td>\n",
       "            </tr>\n",
       "            <tr>\n",
       "                        <th id=\"T_17f8fd9e_b789_11eb_8ce7_544cf75f5f01level0_row37\" class=\"row_heading level0 row37\" >37</th>\n",
       "                        <td id=\"T_17f8fd9e_b789_11eb_8ce7_544cf75f5f01row37_col0\" class=\"data row37 col0\" >Numeric Binning</td>\n",
       "                        <td id=\"T_17f8fd9e_b789_11eb_8ce7_544cf75f5f01row37_col1\" class=\"data row37 col1\" >True</td>\n",
       "            </tr>\n",
       "            <tr>\n",
       "                        <th id=\"T_17f8fd9e_b789_11eb_8ce7_544cf75f5f01level0_row38\" class=\"row_heading level0 row38\" >38</th>\n",
       "                        <td id=\"T_17f8fd9e_b789_11eb_8ce7_544cf75f5f01row38_col0\" class=\"data row38 col0\" >Remove Outliers</td>\n",
       "                        <td id=\"T_17f8fd9e_b789_11eb_8ce7_544cf75f5f01row38_col1\" class=\"data row38 col1\" >False</td>\n",
       "            </tr>\n",
       "            <tr>\n",
       "                        <th id=\"T_17f8fd9e_b789_11eb_8ce7_544cf75f5f01level0_row39\" class=\"row_heading level0 row39\" >39</th>\n",
       "                        <td id=\"T_17f8fd9e_b789_11eb_8ce7_544cf75f5f01row39_col0\" class=\"data row39 col0\" >Outliers Threshold</td>\n",
       "                        <td id=\"T_17f8fd9e_b789_11eb_8ce7_544cf75f5f01row39_col1\" class=\"data row39 col1\" >None</td>\n",
       "            </tr>\n",
       "            <tr>\n",
       "                        <th id=\"T_17f8fd9e_b789_11eb_8ce7_544cf75f5f01level0_row40\" class=\"row_heading level0 row40\" >40</th>\n",
       "                        <td id=\"T_17f8fd9e_b789_11eb_8ce7_544cf75f5f01row40_col0\" class=\"data row40 col0\" >Remove Multicollinearity</td>\n",
       "                        <td id=\"T_17f8fd9e_b789_11eb_8ce7_544cf75f5f01row40_col1\" class=\"data row40 col1\" >False</td>\n",
       "            </tr>\n",
       "            <tr>\n",
       "                        <th id=\"T_17f8fd9e_b789_11eb_8ce7_544cf75f5f01level0_row41\" class=\"row_heading level0 row41\" >41</th>\n",
       "                        <td id=\"T_17f8fd9e_b789_11eb_8ce7_544cf75f5f01row41_col0\" class=\"data row41 col0\" >Multicollinearity Threshold</td>\n",
       "                        <td id=\"T_17f8fd9e_b789_11eb_8ce7_544cf75f5f01row41_col1\" class=\"data row41 col1\" >None</td>\n",
       "            </tr>\n",
       "            <tr>\n",
       "                        <th id=\"T_17f8fd9e_b789_11eb_8ce7_544cf75f5f01level0_row42\" class=\"row_heading level0 row42\" >42</th>\n",
       "                        <td id=\"T_17f8fd9e_b789_11eb_8ce7_544cf75f5f01row42_col0\" class=\"data row42 col0\" >Clustering</td>\n",
       "                        <td id=\"T_17f8fd9e_b789_11eb_8ce7_544cf75f5f01row42_col1\" class=\"data row42 col1\" >False</td>\n",
       "            </tr>\n",
       "            <tr>\n",
       "                        <th id=\"T_17f8fd9e_b789_11eb_8ce7_544cf75f5f01level0_row43\" class=\"row_heading level0 row43\" >43</th>\n",
       "                        <td id=\"T_17f8fd9e_b789_11eb_8ce7_544cf75f5f01row43_col0\" class=\"data row43 col0\" >Clustering Iteration</td>\n",
       "                        <td id=\"T_17f8fd9e_b789_11eb_8ce7_544cf75f5f01row43_col1\" class=\"data row43 col1\" >None</td>\n",
       "            </tr>\n",
       "            <tr>\n",
       "                        <th id=\"T_17f8fd9e_b789_11eb_8ce7_544cf75f5f01level0_row44\" class=\"row_heading level0 row44\" >44</th>\n",
       "                        <td id=\"T_17f8fd9e_b789_11eb_8ce7_544cf75f5f01row44_col0\" class=\"data row44 col0\" >Polynomial Features</td>\n",
       "                        <td id=\"T_17f8fd9e_b789_11eb_8ce7_544cf75f5f01row44_col1\" class=\"data row44 col1\" >True</td>\n",
       "            </tr>\n",
       "            <tr>\n",
       "                        <th id=\"T_17f8fd9e_b789_11eb_8ce7_544cf75f5f01level0_row45\" class=\"row_heading level0 row45\" >45</th>\n",
       "                        <td id=\"T_17f8fd9e_b789_11eb_8ce7_544cf75f5f01row45_col0\" class=\"data row45 col0\" >Polynomial Degree</td>\n",
       "                        <td id=\"T_17f8fd9e_b789_11eb_8ce7_544cf75f5f01row45_col1\" class=\"data row45 col1\" >2</td>\n",
       "            </tr>\n",
       "            <tr>\n",
       "                        <th id=\"T_17f8fd9e_b789_11eb_8ce7_544cf75f5f01level0_row46\" class=\"row_heading level0 row46\" >46</th>\n",
       "                        <td id=\"T_17f8fd9e_b789_11eb_8ce7_544cf75f5f01row46_col0\" class=\"data row46 col0\" >Trignometry Features</td>\n",
       "                        <td id=\"T_17f8fd9e_b789_11eb_8ce7_544cf75f5f01row46_col1\" class=\"data row46 col1\" >True</td>\n",
       "            </tr>\n",
       "            <tr>\n",
       "                        <th id=\"T_17f8fd9e_b789_11eb_8ce7_544cf75f5f01level0_row47\" class=\"row_heading level0 row47\" >47</th>\n",
       "                        <td id=\"T_17f8fd9e_b789_11eb_8ce7_544cf75f5f01row47_col0\" class=\"data row47 col0\" >Polynomial Threshold</td>\n",
       "                        <td id=\"T_17f8fd9e_b789_11eb_8ce7_544cf75f5f01row47_col1\" class=\"data row47 col1\" >0.100000</td>\n",
       "            </tr>\n",
       "            <tr>\n",
       "                        <th id=\"T_17f8fd9e_b789_11eb_8ce7_544cf75f5f01level0_row48\" class=\"row_heading level0 row48\" >48</th>\n",
       "                        <td id=\"T_17f8fd9e_b789_11eb_8ce7_544cf75f5f01row48_col0\" class=\"data row48 col0\" >Group Features</td>\n",
       "                        <td id=\"T_17f8fd9e_b789_11eb_8ce7_544cf75f5f01row48_col1\" class=\"data row48 col1\" >False</td>\n",
       "            </tr>\n",
       "            <tr>\n",
       "                        <th id=\"T_17f8fd9e_b789_11eb_8ce7_544cf75f5f01level0_row49\" class=\"row_heading level0 row49\" >49</th>\n",
       "                        <td id=\"T_17f8fd9e_b789_11eb_8ce7_544cf75f5f01row49_col0\" class=\"data row49 col0\" >Feature Selection</td>\n",
       "                        <td id=\"T_17f8fd9e_b789_11eb_8ce7_544cf75f5f01row49_col1\" class=\"data row49 col1\" >False</td>\n",
       "            </tr>\n",
       "            <tr>\n",
       "                        <th id=\"T_17f8fd9e_b789_11eb_8ce7_544cf75f5f01level0_row50\" class=\"row_heading level0 row50\" >50</th>\n",
       "                        <td id=\"T_17f8fd9e_b789_11eb_8ce7_544cf75f5f01row50_col0\" class=\"data row50 col0\" >Feature Selection Method</td>\n",
       "                        <td id=\"T_17f8fd9e_b789_11eb_8ce7_544cf75f5f01row50_col1\" class=\"data row50 col1\" >classic</td>\n",
       "            </tr>\n",
       "            <tr>\n",
       "                        <th id=\"T_17f8fd9e_b789_11eb_8ce7_544cf75f5f01level0_row51\" class=\"row_heading level0 row51\" >51</th>\n",
       "                        <td id=\"T_17f8fd9e_b789_11eb_8ce7_544cf75f5f01row51_col0\" class=\"data row51 col0\" >Features Selection Threshold</td>\n",
       "                        <td id=\"T_17f8fd9e_b789_11eb_8ce7_544cf75f5f01row51_col1\" class=\"data row51 col1\" >None</td>\n",
       "            </tr>\n",
       "            <tr>\n",
       "                        <th id=\"T_17f8fd9e_b789_11eb_8ce7_544cf75f5f01level0_row52\" class=\"row_heading level0 row52\" >52</th>\n",
       "                        <td id=\"T_17f8fd9e_b789_11eb_8ce7_544cf75f5f01row52_col0\" class=\"data row52 col0\" >Feature Interaction</td>\n",
       "                        <td id=\"T_17f8fd9e_b789_11eb_8ce7_544cf75f5f01row52_col1\" class=\"data row52 col1\" >True</td>\n",
       "            </tr>\n",
       "            <tr>\n",
       "                        <th id=\"T_17f8fd9e_b789_11eb_8ce7_544cf75f5f01level0_row53\" class=\"row_heading level0 row53\" >53</th>\n",
       "                        <td id=\"T_17f8fd9e_b789_11eb_8ce7_544cf75f5f01row53_col0\" class=\"data row53 col0\" >Feature Ratio</td>\n",
       "                        <td id=\"T_17f8fd9e_b789_11eb_8ce7_544cf75f5f01row53_col1\" class=\"data row53 col1\" >False</td>\n",
       "            </tr>\n",
       "            <tr>\n",
       "                        <th id=\"T_17f8fd9e_b789_11eb_8ce7_544cf75f5f01level0_row54\" class=\"row_heading level0 row54\" >54</th>\n",
       "                        <td id=\"T_17f8fd9e_b789_11eb_8ce7_544cf75f5f01row54_col0\" class=\"data row54 col0\" >Interaction Threshold</td>\n",
       "                        <td id=\"T_17f8fd9e_b789_11eb_8ce7_544cf75f5f01row54_col1\" class=\"data row54 col1\" >0.010000</td>\n",
       "            </tr>\n",
       "            <tr>\n",
       "                        <th id=\"T_17f8fd9e_b789_11eb_8ce7_544cf75f5f01level0_row55\" class=\"row_heading level0 row55\" >55</th>\n",
       "                        <td id=\"T_17f8fd9e_b789_11eb_8ce7_544cf75f5f01row55_col0\" class=\"data row55 col0\" >Transform Target</td>\n",
       "                        <td id=\"T_17f8fd9e_b789_11eb_8ce7_544cf75f5f01row55_col1\" class=\"data row55 col1\" >False</td>\n",
       "            </tr>\n",
       "            <tr>\n",
       "                        <th id=\"T_17f8fd9e_b789_11eb_8ce7_544cf75f5f01level0_row56\" class=\"row_heading level0 row56\" >56</th>\n",
       "                        <td id=\"T_17f8fd9e_b789_11eb_8ce7_544cf75f5f01row56_col0\" class=\"data row56 col0\" >Transform Target Method</td>\n",
       "                        <td id=\"T_17f8fd9e_b789_11eb_8ce7_544cf75f5f01row56_col1\" class=\"data row56 col1\" >box-cox</td>\n",
       "            </tr>\n",
       "    </tbody></table>"
      ],
      "text/plain": [
       "<pandas.io.formats.style.Styler at 0x1ce9d079f28>"
      ]
     },
     "metadata": {},
     "output_type": "display_data"
    }
   ],
   "source": [
    "from pycaret.regression import *\n",
    "r2 = setup(data, target = 'charges', session_id = 123,\n",
    "           normalize = True,\n",
    "           polynomial_features = True, trigonometry_features = True,\n",
    "           feature_interaction=True, \n",
    "           bin_numeric_features= ['age', 'bmi'])"
   ]
  },
  {
   "cell_type": "code",
   "execution_count": 3,
   "id": "1e8e72b4",
   "metadata": {
    "ExecuteTime": {
     "end_time": "2021-05-18T03:28:20.664463Z",
     "start_time": "2021-05-18T03:28:20.649605Z"
    }
   },
   "outputs": [],
   "source": [
    "# best = compare_models()    # 之前已經試驗過了，此處就不再重跑"
   ]
  },
  {
   "cell_type": "markdown",
   "id": "74ae8eba",
   "metadata": {},
   "source": [
    "## Linear Regression"
   ]
  },
  {
   "cell_type": "code",
   "execution_count": 4,
   "id": "0ede5a9a",
   "metadata": {
    "ExecuteTime": {
     "end_time": "2021-05-18T03:28:25.648261Z",
     "start_time": "2021-05-18T03:28:20.667411Z"
    }
   },
   "outputs": [
    {
     "data": {
      "text/html": [
       "<style  type=\"text/css\" >\n",
       "#T_1af3c21a_b789_11eb_9608_544cf75f5f01row10_col0,#T_1af3c21a_b789_11eb_9608_544cf75f5f01row10_col1,#T_1af3c21a_b789_11eb_9608_544cf75f5f01row10_col2,#T_1af3c21a_b789_11eb_9608_544cf75f5f01row10_col3,#T_1af3c21a_b789_11eb_9608_544cf75f5f01row10_col4,#T_1af3c21a_b789_11eb_9608_544cf75f5f01row10_col5{\n",
       "            background:  yellow;\n",
       "        }</style><table id=\"T_1af3c21a_b789_11eb_9608_544cf75f5f01\" ><thead>    <tr>        <th class=\"blank level0\" ></th>        <th class=\"col_heading level0 col0\" >MAE</th>        <th class=\"col_heading level0 col1\" >MSE</th>        <th class=\"col_heading level0 col2\" >RMSE</th>        <th class=\"col_heading level0 col3\" >R2</th>        <th class=\"col_heading level0 col4\" >RMSLE</th>        <th class=\"col_heading level0 col5\" >MAPE</th>    </tr></thead><tbody>\n",
       "                <tr>\n",
       "                        <th id=\"T_1af3c21a_b789_11eb_9608_544cf75f5f01level0_row0\" class=\"row_heading level0 row0\" >0</th>\n",
       "                        <td id=\"T_1af3c21a_b789_11eb_9608_544cf75f5f01row0_col0\" class=\"data row0 col0\" >3080.5266</td>\n",
       "                        <td id=\"T_1af3c21a_b789_11eb_9608_544cf75f5f01row0_col1\" class=\"data row0 col1\" >21362818.0000</td>\n",
       "                        <td id=\"T_1af3c21a_b789_11eb_9608_544cf75f5f01row0_col2\" class=\"data row0 col2\" >4621.9927</td>\n",
       "                        <td id=\"T_1af3c21a_b789_11eb_9608_544cf75f5f01row0_col3\" class=\"data row0 col3\" >0.8724</td>\n",
       "                        <td id=\"T_1af3c21a_b789_11eb_9608_544cf75f5f01row0_col4\" class=\"data row0 col4\" >0.4133</td>\n",
       "                        <td id=\"T_1af3c21a_b789_11eb_9608_544cf75f5f01row0_col5\" class=\"data row0 col5\" >0.3280</td>\n",
       "            </tr>\n",
       "            <tr>\n",
       "                        <th id=\"T_1af3c21a_b789_11eb_9608_544cf75f5f01level0_row1\" class=\"row_heading level0 row1\" >1</th>\n",
       "                        <td id=\"T_1af3c21a_b789_11eb_9608_544cf75f5f01row1_col0\" class=\"data row1 col0\" >3405.0522</td>\n",
       "                        <td id=\"T_1af3c21a_b789_11eb_9608_544cf75f5f01row1_col1\" class=\"data row1 col1\" >31559854.0000</td>\n",
       "                        <td id=\"T_1af3c21a_b789_11eb_9608_544cf75f5f01row1_col2\" class=\"data row1 col2\" >5617.8159</td>\n",
       "                        <td id=\"T_1af3c21a_b789_11eb_9608_544cf75f5f01row1_col3\" class=\"data row1 col3\" >0.8165</td>\n",
       "                        <td id=\"T_1af3c21a_b789_11eb_9608_544cf75f5f01row1_col4\" class=\"data row1 col4\" >0.4286</td>\n",
       "                        <td id=\"T_1af3c21a_b789_11eb_9608_544cf75f5f01row1_col5\" class=\"data row1 col5\" >0.3206</td>\n",
       "            </tr>\n",
       "            <tr>\n",
       "                        <th id=\"T_1af3c21a_b789_11eb_9608_544cf75f5f01level0_row2\" class=\"row_heading level0 row2\" >2</th>\n",
       "                        <td id=\"T_1af3c21a_b789_11eb_9608_544cf75f5f01row2_col0\" class=\"data row2 col0\" >2985.2944</td>\n",
       "                        <td id=\"T_1af3c21a_b789_11eb_9608_544cf75f5f01row2_col1\" class=\"data row2 col1\" >23914200.0000</td>\n",
       "                        <td id=\"T_1af3c21a_b789_11eb_9608_544cf75f5f01row2_col2\" class=\"data row2 col2\" >4890.2148</td>\n",
       "                        <td id=\"T_1af3c21a_b789_11eb_9608_544cf75f5f01row2_col3\" class=\"data row2 col3\" >0.6972</td>\n",
       "                        <td id=\"T_1af3c21a_b789_11eb_9608_544cf75f5f01row2_col4\" class=\"data row2 col4\" >0.5783</td>\n",
       "                        <td id=\"T_1af3c21a_b789_11eb_9608_544cf75f5f01row2_col5\" class=\"data row2 col5\" >0.3796</td>\n",
       "            </tr>\n",
       "            <tr>\n",
       "                        <th id=\"T_1af3c21a_b789_11eb_9608_544cf75f5f01level0_row3\" class=\"row_heading level0 row3\" >3</th>\n",
       "                        <td id=\"T_1af3c21a_b789_11eb_9608_544cf75f5f01row3_col0\" class=\"data row3 col0\" >3131.9441</td>\n",
       "                        <td id=\"T_1af3c21a_b789_11eb_9608_544cf75f5f01row3_col1\" class=\"data row3 col1\" >20934184.0000</td>\n",
       "                        <td id=\"T_1af3c21a_b789_11eb_9608_544cf75f5f01row3_col2\" class=\"data row3 col2\" >4575.3892</td>\n",
       "                        <td id=\"T_1af3c21a_b789_11eb_9608_544cf75f5f01row3_col3\" class=\"data row3 col3\" >0.8252</td>\n",
       "                        <td id=\"T_1af3c21a_b789_11eb_9608_544cf75f5f01row3_col4\" class=\"data row3 col4\" >0.4750</td>\n",
       "                        <td id=\"T_1af3c21a_b789_11eb_9608_544cf75f5f01row3_col5\" class=\"data row3 col5\" >0.4442</td>\n",
       "            </tr>\n",
       "            <tr>\n",
       "                        <th id=\"T_1af3c21a_b789_11eb_9608_544cf75f5f01level0_row4\" class=\"row_heading level0 row4\" >4</th>\n",
       "                        <td id=\"T_1af3c21a_b789_11eb_9608_544cf75f5f01row4_col0\" class=\"data row4 col0\" >3385.6992</td>\n",
       "                        <td id=\"T_1af3c21a_b789_11eb_9608_544cf75f5f01row4_col1\" class=\"data row4 col1\" >29317690.0000</td>\n",
       "                        <td id=\"T_1af3c21a_b789_11eb_9608_544cf75f5f01row4_col2\" class=\"data row4 col2\" >5414.5811</td>\n",
       "                        <td id=\"T_1af3c21a_b789_11eb_9608_544cf75f5f01row4_col3\" class=\"data row4 col3\" >0.7819</td>\n",
       "                        <td id=\"T_1af3c21a_b789_11eb_9608_544cf75f5f01row4_col4\" class=\"data row4 col4\" >0.4593</td>\n",
       "                        <td id=\"T_1af3c21a_b789_11eb_9608_544cf75f5f01row4_col5\" class=\"data row4 col5\" >0.3177</td>\n",
       "            </tr>\n",
       "            <tr>\n",
       "                        <th id=\"T_1af3c21a_b789_11eb_9608_544cf75f5f01level0_row5\" class=\"row_heading level0 row5\" >5</th>\n",
       "                        <td id=\"T_1af3c21a_b789_11eb_9608_544cf75f5f01row5_col0\" class=\"data row5 col0\" >3251.9485</td>\n",
       "                        <td id=\"T_1af3c21a_b789_11eb_9608_544cf75f5f01row5_col1\" class=\"data row5 col1\" >26735156.0000</td>\n",
       "                        <td id=\"T_1af3c21a_b789_11eb_9608_544cf75f5f01row5_col2\" class=\"data row5 col2\" >5170.6050</td>\n",
       "                        <td id=\"T_1af3c21a_b789_11eb_9608_544cf75f5f01row5_col3\" class=\"data row5 col3\" >0.8280</td>\n",
       "                        <td id=\"T_1af3c21a_b789_11eb_9608_544cf75f5f01row5_col4\" class=\"data row5 col4\" >0.4569</td>\n",
       "                        <td id=\"T_1af3c21a_b789_11eb_9608_544cf75f5f01row5_col5\" class=\"data row5 col5\" >0.3045</td>\n",
       "            </tr>\n",
       "            <tr>\n",
       "                        <th id=\"T_1af3c21a_b789_11eb_9608_544cf75f5f01level0_row6\" class=\"row_heading level0 row6\" >6</th>\n",
       "                        <td id=\"T_1af3c21a_b789_11eb_9608_544cf75f5f01row6_col0\" class=\"data row6 col0\" >3014.6270</td>\n",
       "                        <td id=\"T_1af3c21a_b789_11eb_9608_544cf75f5f01row6_col1\" class=\"data row6 col1\" >27070258.0000</td>\n",
       "                        <td id=\"T_1af3c21a_b789_11eb_9608_544cf75f5f01row6_col2\" class=\"data row6 col2\" >5202.9087</td>\n",
       "                        <td id=\"T_1af3c21a_b789_11eb_9608_544cf75f5f01row6_col3\" class=\"data row6 col3\" >0.8158</td>\n",
       "                        <td id=\"T_1af3c21a_b789_11eb_9608_544cf75f5f01row6_col4\" class=\"data row6 col4\" >0.3822</td>\n",
       "                        <td id=\"T_1af3c21a_b789_11eb_9608_544cf75f5f01row6_col5\" class=\"data row6 col5\" >0.3140</td>\n",
       "            </tr>\n",
       "            <tr>\n",
       "                        <th id=\"T_1af3c21a_b789_11eb_9608_544cf75f5f01level0_row7\" class=\"row_heading level0 row7\" >7</th>\n",
       "                        <td id=\"T_1af3c21a_b789_11eb_9608_544cf75f5f01row7_col0\" class=\"data row7 col0\" >3540.9238</td>\n",
       "                        <td id=\"T_1af3c21a_b789_11eb_9608_544cf75f5f01row7_col1\" class=\"data row7 col1\" >31011590.0000</td>\n",
       "                        <td id=\"T_1af3c21a_b789_11eb_9608_544cf75f5f01row7_col2\" class=\"data row7 col2\" >5568.8052</td>\n",
       "                        <td id=\"T_1af3c21a_b789_11eb_9608_544cf75f5f01row7_col3\" class=\"data row7 col3\" >0.8295</td>\n",
       "                        <td id=\"T_1af3c21a_b789_11eb_9608_544cf75f5f01row7_col4\" class=\"data row7 col4\" >0.4962</td>\n",
       "                        <td id=\"T_1af3c21a_b789_11eb_9608_544cf75f5f01row7_col5\" class=\"data row7 col5\" >0.3280</td>\n",
       "            </tr>\n",
       "            <tr>\n",
       "                        <th id=\"T_1af3c21a_b789_11eb_9608_544cf75f5f01level0_row8\" class=\"row_heading level0 row8\" >8</th>\n",
       "                        <td id=\"T_1af3c21a_b789_11eb_9608_544cf75f5f01row8_col0\" class=\"data row8 col0\" >3225.2019</td>\n",
       "                        <td id=\"T_1af3c21a_b789_11eb_9608_544cf75f5f01row8_col1\" class=\"data row8 col1\" >23172014.0000</td>\n",
       "                        <td id=\"T_1af3c21a_b789_11eb_9608_544cf75f5f01row8_col2\" class=\"data row8 col2\" >4813.7319</td>\n",
       "                        <td id=\"T_1af3c21a_b789_11eb_9608_544cf75f5f01row8_col3\" class=\"data row8 col3\" >0.8503</td>\n",
       "                        <td id=\"T_1af3c21a_b789_11eb_9608_544cf75f5f01row8_col4\" class=\"data row8 col4\" >0.4036</td>\n",
       "                        <td id=\"T_1af3c21a_b789_11eb_9608_544cf75f5f01row8_col5\" class=\"data row8 col5\" >0.3572</td>\n",
       "            </tr>\n",
       "            <tr>\n",
       "                        <th id=\"T_1af3c21a_b789_11eb_9608_544cf75f5f01level0_row9\" class=\"row_heading level0 row9\" >9</th>\n",
       "                        <td id=\"T_1af3c21a_b789_11eb_9608_544cf75f5f01row9_col0\" class=\"data row9 col0\" >3382.1775</td>\n",
       "                        <td id=\"T_1af3c21a_b789_11eb_9608_544cf75f5f01row9_col1\" class=\"data row9 col1\" >29852028.0000</td>\n",
       "                        <td id=\"T_1af3c21a_b789_11eb_9608_544cf75f5f01row9_col2\" class=\"data row9 col2\" >5463.7012</td>\n",
       "                        <td id=\"T_1af3c21a_b789_11eb_9608_544cf75f5f01row9_col3\" class=\"data row9 col3\" >0.8077</td>\n",
       "                        <td id=\"T_1af3c21a_b789_11eb_9608_544cf75f5f01row9_col4\" class=\"data row9 col4\" >0.5222</td>\n",
       "                        <td id=\"T_1af3c21a_b789_11eb_9608_544cf75f5f01row9_col5\" class=\"data row9 col5\" >0.3731</td>\n",
       "            </tr>\n",
       "            <tr>\n",
       "                        <th id=\"T_1af3c21a_b789_11eb_9608_544cf75f5f01level0_row10\" class=\"row_heading level0 row10\" >Mean</th>\n",
       "                        <td id=\"T_1af3c21a_b789_11eb_9608_544cf75f5f01row10_col0\" class=\"data row10 col0\" >3240.3395</td>\n",
       "                        <td id=\"T_1af3c21a_b789_11eb_9608_544cf75f5f01row10_col1\" class=\"data row10 col1\" >26492979.2000</td>\n",
       "                        <td id=\"T_1af3c21a_b789_11eb_9608_544cf75f5f01row10_col2\" class=\"data row10 col2\" >5133.9746</td>\n",
       "                        <td id=\"T_1af3c21a_b789_11eb_9608_544cf75f5f01row10_col3\" class=\"data row10 col3\" >0.8125</td>\n",
       "                        <td id=\"T_1af3c21a_b789_11eb_9608_544cf75f5f01row10_col4\" class=\"data row10 col4\" >0.4615</td>\n",
       "                        <td id=\"T_1af3c21a_b789_11eb_9608_544cf75f5f01row10_col5\" class=\"data row10 col5\" >0.3467</td>\n",
       "            </tr>\n",
       "            <tr>\n",
       "                        <th id=\"T_1af3c21a_b789_11eb_9608_544cf75f5f01level0_row11\" class=\"row_heading level0 row11\" >SD</th>\n",
       "                        <td id=\"T_1af3c21a_b789_11eb_9608_544cf75f5f01row11_col0\" class=\"data row11 col0\" >176.7418</td>\n",
       "                        <td id=\"T_1af3c21a_b789_11eb_9608_544cf75f5f01row11_col1\" class=\"data row11 col1\" >3750237.7817</td>\n",
       "                        <td id=\"T_1af3c21a_b789_11eb_9608_544cf75f5f01row11_col2\" class=\"data row11 col2\" >367.8112</td>\n",
       "                        <td id=\"T_1af3c21a_b789_11eb_9608_544cf75f5f01row11_col3\" class=\"data row11 col3\" >0.0447</td>\n",
       "                        <td id=\"T_1af3c21a_b789_11eb_9608_544cf75f5f01row11_col4\" class=\"data row11 col4\" >0.0564</td>\n",
       "                        <td id=\"T_1af3c21a_b789_11eb_9608_544cf75f5f01row11_col5\" class=\"data row11 col5\" >0.0406</td>\n",
       "            </tr>\n",
       "    </tbody></table>"
      ],
      "text/plain": [
       "<pandas.io.formats.style.Styler at 0x1ce9c9eea90>"
      ]
     },
     "metadata": {},
     "output_type": "display_data"
    }
   ],
   "source": [
    "# Model Training and Validation \n",
    "lr = create_model('lr')"
   ]
  },
  {
   "cell_type": "code",
   "execution_count": 5,
   "id": "1d780074",
   "metadata": {
    "ExecuteTime": {
     "end_time": "2021-05-18T03:28:26.808830Z",
     "start_time": "2021-05-18T03:28:25.648261Z"
    }
   },
   "outputs": [
    {
     "data": {
      "image/png": "[encoded data removed]",
      "text/plain": [
       "<Figure size 576x396 with 2 Axes>"
      ]
     },
     "metadata": {},
     "output_type": "display_data"
    }
   ],
   "source": [
    "# plot residuals of trained model\n",
    "plot_model(lr, plot = 'residuals')"
   ]
  },
  {
   "cell_type": "code",
   "execution_count": 6,
   "id": "dcf9edde",
   "metadata": {
    "ExecuteTime": {
     "end_time": "2021-05-18T03:28:26.950970Z",
     "start_time": "2021-05-18T03:28:26.808830Z"
    }
   },
   "outputs": [
    {
     "name": "stdout",
     "output_type": "stream",
     "text": [
      "Transformation Pipeline and Model Succesfully Saved\n"
     ]
    },
    {
     "data": {
      "text/plain": [
       "(Pipeline(memory=None,\n",
       "          steps=[('dtypes',\n",
       "                  DataTypes_Auto_infer(categorical_features=[],\n",
       "                                       display_types=True, features_todrop=[],\n",
       "                                       id_columns=[], ml_usecase='regression',\n",
       "                                       numerical_features=[], target='charges',\n",
       "                                       time_features=[])),\n",
       "                 ('imputer',\n",
       "                  Simple_Imputer(categorical_strategy='not_available',\n",
       "                                 fill_value_categorical=None,\n",
       "                                 fill_value_numerical=None,\n",
       "                                 numeric_strategy...\n",
       "                 ('feature_select', 'passthrough'), ('fix_multi', 'passthrough'),\n",
       "                 ('dfs',\n",
       "                  DFS_Classic(interactions=['multiply'], ml_usecase='regression',\n",
       "                              n_jobs=-1, random_state=123, subclass='binary',\n",
       "                              target='charges',\n",
       "                              top_features_to_pick_percentage=None)),\n",
       "                 ('pca', 'passthrough'),\n",
       "                 ['trained_model',\n",
       "                  LinearRegression(copy_X=True, fit_intercept=True, n_jobs=-1,\n",
       "                                   normalize=False)]],\n",
       "          verbose=False),\n",
       " 'lr.pkl')"
      ]
     },
     "execution_count": 6,
     "metadata": {},
     "output_type": "execute_result"
    }
   ],
   "source": [
    "# save transformation pipeline and model \n",
    "save_model(lr, model_name = 'lr')"
   ]
  },
  {
   "cell_type": "markdown",
   "id": "4bc86822",
   "metadata": {
    "ExecuteTime": {
     "end_time": "2021-05-17T08:12:34.019396Z",
     "start_time": "2021-05-17T08:12:30.709864Z"
    }
   },
   "source": [
    "## Gradient Boosting Regressor"
   ]
  },
  {
   "cell_type": "code",
   "execution_count": 7,
   "id": "740cafee",
   "metadata": {
    "ExecuteTime": {
     "end_time": "2021-05-18T03:28:28.281067Z",
     "start_time": "2021-05-18T03:28:26.954912Z"
    }
   },
   "outputs": [
    {
     "data": {
      "text/html": [
       "<style  type=\"text/css\" >\n",
       "#T_1c861382_b789_11eb_87be_544cf75f5f01row10_col0,#T_1c861382_b789_11eb_87be_544cf75f5f01row10_col1,#T_1c861382_b789_11eb_87be_544cf75f5f01row10_col2,#T_1c861382_b789_11eb_87be_544cf75f5f01row10_col3,#T_1c861382_b789_11eb_87be_544cf75f5f01row10_col4,#T_1c861382_b789_11eb_87be_544cf75f5f01row10_col5{\n",
       "            background:  yellow;\n",
       "        }</style><table id=\"T_1c861382_b789_11eb_87be_544cf75f5f01\" ><thead>    <tr>        <th class=\"blank level0\" ></th>        <th class=\"col_heading level0 col0\" >MAE</th>        <th class=\"col_heading level0 col1\" >MSE</th>        <th class=\"col_heading level0 col2\" >RMSE</th>        <th class=\"col_heading level0 col3\" >R2</th>        <th class=\"col_heading level0 col4\" >RMSLE</th>        <th class=\"col_heading level0 col5\" >MAPE</th>    </tr></thead><tbody>\n",
       "                <tr>\n",
       "                        <th id=\"T_1c861382_b789_11eb_87be_544cf75f5f01level0_row0\" class=\"row_heading level0 row0\" >0</th>\n",
       "                        <td id=\"T_1c861382_b789_11eb_87be_544cf75f5f01row0_col0\" class=\"data row0 col0\" >2638.3041</td>\n",
       "                        <td id=\"T_1c861382_b789_11eb_87be_544cf75f5f01row0_col1\" class=\"data row0 col1\" >20995120.8460</td>\n",
       "                        <td id=\"T_1c861382_b789_11eb_87be_544cf75f5f01row0_col2\" class=\"data row0 col2\" >4582.0433</td>\n",
       "                        <td id=\"T_1c861382_b789_11eb_87be_544cf75f5f01row0_col3\" class=\"data row0 col3\" >0.8746</td>\n",
       "                        <td id=\"T_1c861382_b789_11eb_87be_544cf75f5f01row0_col4\" class=\"data row0 col4\" >0.4611</td>\n",
       "                        <td id=\"T_1c861382_b789_11eb_87be_544cf75f5f01row0_col5\" class=\"data row0 col5\" >0.3423</td>\n",
       "            </tr>\n",
       "            <tr>\n",
       "                        <th id=\"T_1c861382_b789_11eb_87be_544cf75f5f01level0_row1\" class=\"row_heading level0 row1\" >1</th>\n",
       "                        <td id=\"T_1c861382_b789_11eb_87be_544cf75f5f01row1_col0\" class=\"data row1 col0\" >2973.1802</td>\n",
       "                        <td id=\"T_1c861382_b789_11eb_87be_544cf75f5f01row1_col1\" class=\"data row1 col1\" >31318392.7195</td>\n",
       "                        <td id=\"T_1c861382_b789_11eb_87be_544cf75f5f01row1_col2\" class=\"data row1 col2\" >5596.2838</td>\n",
       "                        <td id=\"T_1c861382_b789_11eb_87be_544cf75f5f01row1_col3\" class=\"data row1 col3\" >0.8179</td>\n",
       "                        <td id=\"T_1c861382_b789_11eb_87be_544cf75f5f01row1_col4\" class=\"data row1 col4\" >0.4443</td>\n",
       "                        <td id=\"T_1c861382_b789_11eb_87be_544cf75f5f01row1_col5\" class=\"data row1 col5\" >0.2845</td>\n",
       "            </tr>\n",
       "            <tr>\n",
       "                        <th id=\"T_1c861382_b789_11eb_87be_544cf75f5f01level0_row2\" class=\"row_heading level0 row2\" >2</th>\n",
       "                        <td id=\"T_1c861382_b789_11eb_87be_544cf75f5f01row2_col0\" class=\"data row2 col0\" >2892.5452</td>\n",
       "                        <td id=\"T_1c861382_b789_11eb_87be_544cf75f5f01row2_col1\" class=\"data row2 col1\" >26634475.3883</td>\n",
       "                        <td id=\"T_1c861382_b789_11eb_87be_544cf75f5f01row2_col2\" class=\"data row2 col2\" >5160.8599</td>\n",
       "                        <td id=\"T_1c861382_b789_11eb_87be_544cf75f5f01row2_col3\" class=\"data row2 col3\" >0.6628</td>\n",
       "                        <td id=\"T_1c861382_b789_11eb_87be_544cf75f5f01row2_col4\" class=\"data row2 col4\" >0.5568</td>\n",
       "                        <td id=\"T_1c861382_b789_11eb_87be_544cf75f5f01row2_col5\" class=\"data row2 col5\" >0.4182</td>\n",
       "            </tr>\n",
       "            <tr>\n",
       "                        <th id=\"T_1c861382_b789_11eb_87be_544cf75f5f01level0_row3\" class=\"row_heading level0 row3\" >3</th>\n",
       "                        <td id=\"T_1c861382_b789_11eb_87be_544cf75f5f01row3_col0\" class=\"data row3 col0\" >3007.3027</td>\n",
       "                        <td id=\"T_1c861382_b789_11eb_87be_544cf75f5f01row3_col1\" class=\"data row3 col1\" >23007841.9164</td>\n",
       "                        <td id=\"T_1c861382_b789_11eb_87be_544cf75f5f01row3_col2\" class=\"data row3 col2\" >4796.6490</td>\n",
       "                        <td id=\"T_1c861382_b789_11eb_87be_544cf75f5f01row3_col3\" class=\"data row3 col3\" >0.8079</td>\n",
       "                        <td id=\"T_1c861382_b789_11eb_87be_544cf75f5f01row3_col4\" class=\"data row3 col4\" >0.5192</td>\n",
       "                        <td id=\"T_1c861382_b789_11eb_87be_544cf75f5f01row3_col5\" class=\"data row3 col5\" >0.4419</td>\n",
       "            </tr>\n",
       "            <tr>\n",
       "                        <th id=\"T_1c861382_b789_11eb_87be_544cf75f5f01level0_row4\" class=\"row_heading level0 row4\" >4</th>\n",
       "                        <td id=\"T_1c861382_b789_11eb_87be_544cf75f5f01row4_col0\" class=\"data row4 col0\" >2989.1547</td>\n",
       "                        <td id=\"T_1c861382_b789_11eb_87be_544cf75f5f01row4_col1\" class=\"data row4 col1\" >27404992.3755</td>\n",
       "                        <td id=\"T_1c861382_b789_11eb_87be_544cf75f5f01row4_col2\" class=\"data row4 col2\" >5234.9778</td>\n",
       "                        <td id=\"T_1c861382_b789_11eb_87be_544cf75f5f01row4_col3\" class=\"data row4 col3\" >0.7962</td>\n",
       "                        <td id=\"T_1c861382_b789_11eb_87be_544cf75f5f01row4_col4\" class=\"data row4 col4\" >0.5055</td>\n",
       "                        <td id=\"T_1c861382_b789_11eb_87be_544cf75f5f01row4_col5\" class=\"data row4 col5\" >0.3437</td>\n",
       "            </tr>\n",
       "            <tr>\n",
       "                        <th id=\"T_1c861382_b789_11eb_87be_544cf75f5f01level0_row5\" class=\"row_heading level0 row5\" >5</th>\n",
       "                        <td id=\"T_1c861382_b789_11eb_87be_544cf75f5f01row5_col0\" class=\"data row5 col0\" >2598.1880</td>\n",
       "                        <td id=\"T_1c861382_b789_11eb_87be_544cf75f5f01row5_col1\" class=\"data row5 col1\" >19973215.6052</td>\n",
       "                        <td id=\"T_1c861382_b789_11eb_87be_544cf75f5f01row5_col2\" class=\"data row5 col2\" >4469.1404</td>\n",
       "                        <td id=\"T_1c861382_b789_11eb_87be_544cf75f5f01row5_col3\" class=\"data row5 col3\" >0.8715</td>\n",
       "                        <td id=\"T_1c861382_b789_11eb_87be_544cf75f5f01row5_col4\" class=\"data row5 col4\" >0.3760</td>\n",
       "                        <td id=\"T_1c861382_b789_11eb_87be_544cf75f5f01row5_col5\" class=\"data row5 col5\" >0.2473</td>\n",
       "            </tr>\n",
       "            <tr>\n",
       "                        <th id=\"T_1c861382_b789_11eb_87be_544cf75f5f01level0_row6\" class=\"row_heading level0 row6\" >6</th>\n",
       "                        <td id=\"T_1c861382_b789_11eb_87be_544cf75f5f01row6_col0\" class=\"data row6 col0\" >2490.8104</td>\n",
       "                        <td id=\"T_1c861382_b789_11eb_87be_544cf75f5f01row6_col1\" class=\"data row6 col1\" >20661370.0047</td>\n",
       "                        <td id=\"T_1c861382_b789_11eb_87be_544cf75f5f01row6_col2\" class=\"data row6 col2\" >4545.4780</td>\n",
       "                        <td id=\"T_1c861382_b789_11eb_87be_544cf75f5f01row6_col3\" class=\"data row6 col3\" >0.8594</td>\n",
       "                        <td id=\"T_1c861382_b789_11eb_87be_544cf75f5f01row6_col4\" class=\"data row6 col4\" >0.3696</td>\n",
       "                        <td id=\"T_1c861382_b789_11eb_87be_544cf75f5f01row6_col5\" class=\"data row6 col5\" >0.2807</td>\n",
       "            </tr>\n",
       "            <tr>\n",
       "                        <th id=\"T_1c861382_b789_11eb_87be_544cf75f5f01level0_row7\" class=\"row_heading level0 row7\" >7</th>\n",
       "                        <td id=\"T_1c861382_b789_11eb_87be_544cf75f5f01row7_col0\" class=\"data row7 col0\" >2800.1227</td>\n",
       "                        <td id=\"T_1c861382_b789_11eb_87be_544cf75f5f01row7_col1\" class=\"data row7 col1\" >26835998.4310</td>\n",
       "                        <td id=\"T_1c861382_b789_11eb_87be_544cf75f5f01row7_col2\" class=\"data row7 col2\" >5180.3473</td>\n",
       "                        <td id=\"T_1c861382_b789_11eb_87be_544cf75f5f01row7_col3\" class=\"data row7 col3\" >0.8524</td>\n",
       "                        <td id=\"T_1c861382_b789_11eb_87be_544cf75f5f01row7_col4\" class=\"data row7 col4\" >0.4652</td>\n",
       "                        <td id=\"T_1c861382_b789_11eb_87be_544cf75f5f01row7_col5\" class=\"data row7 col5\" >0.2925</td>\n",
       "            </tr>\n",
       "            <tr>\n",
       "                        <th id=\"T_1c861382_b789_11eb_87be_544cf75f5f01level0_row8\" class=\"row_heading level0 row8\" >8</th>\n",
       "                        <td id=\"T_1c861382_b789_11eb_87be_544cf75f5f01row8_col0\" class=\"data row8 col0\" >2501.4044</td>\n",
       "                        <td id=\"T_1c861382_b789_11eb_87be_544cf75f5f01row8_col1\" class=\"data row8 col1\" >20147991.9546</td>\n",
       "                        <td id=\"T_1c861382_b789_11eb_87be_544cf75f5f01row8_col2\" class=\"data row8 col2\" >4488.6515</td>\n",
       "                        <td id=\"T_1c861382_b789_11eb_87be_544cf75f5f01row8_col3\" class=\"data row8 col3\" >0.8699</td>\n",
       "                        <td id=\"T_1c861382_b789_11eb_87be_544cf75f5f01row8_col4\" class=\"data row8 col4\" >0.4170</td>\n",
       "                        <td id=\"T_1c861382_b789_11eb_87be_544cf75f5f01row8_col5\" class=\"data row8 col5\" >0.3324</td>\n",
       "            </tr>\n",
       "            <tr>\n",
       "                        <th id=\"T_1c861382_b789_11eb_87be_544cf75f5f01level0_row9\" class=\"row_heading level0 row9\" >9</th>\n",
       "                        <td id=\"T_1c861382_b789_11eb_87be_544cf75f5f01row9_col0\" class=\"data row9 col0\" >2879.4351</td>\n",
       "                        <td id=\"T_1c861382_b789_11eb_87be_544cf75f5f01row9_col1\" class=\"data row9 col1\" >27983813.0476</td>\n",
       "                        <td id=\"T_1c861382_b789_11eb_87be_544cf75f5f01row9_col2\" class=\"data row9 col2\" >5289.9729</td>\n",
       "                        <td id=\"T_1c861382_b789_11eb_87be_544cf75f5f01row9_col3\" class=\"data row9 col3\" >0.8198</td>\n",
       "                        <td id=\"T_1c861382_b789_11eb_87be_544cf75f5f01row9_col4\" class=\"data row9 col4\" >0.5576</td>\n",
       "                        <td id=\"T_1c861382_b789_11eb_87be_544cf75f5f01row9_col5\" class=\"data row9 col5\" >0.4159</td>\n",
       "            </tr>\n",
       "            <tr>\n",
       "                        <th id=\"T_1c861382_b789_11eb_87be_544cf75f5f01level0_row10\" class=\"row_heading level0 row10\" >Mean</th>\n",
       "                        <td id=\"T_1c861382_b789_11eb_87be_544cf75f5f01row10_col0\" class=\"data row10 col0\" >2777.0448</td>\n",
       "                        <td id=\"T_1c861382_b789_11eb_87be_544cf75f5f01row10_col1\" class=\"data row10 col1\" >24496321.2289</td>\n",
       "                        <td id=\"T_1c861382_b789_11eb_87be_544cf75f5f01row10_col2\" class=\"data row10 col2\" >4934.4404</td>\n",
       "                        <td id=\"T_1c861382_b789_11eb_87be_544cf75f5f01row10_col3\" class=\"data row10 col3\" >0.8232</td>\n",
       "                        <td id=\"T_1c861382_b789_11eb_87be_544cf75f5f01row10_col4\" class=\"data row10 col4\" >0.4672</td>\n",
       "                        <td id=\"T_1c861382_b789_11eb_87be_544cf75f5f01row10_col5\" class=\"data row10 col5\" >0.3399</td>\n",
       "            </tr>\n",
       "            <tr>\n",
       "                        <th id=\"T_1c861382_b789_11eb_87be_544cf75f5f01level0_row11\" class=\"row_heading level0 row11\" >SD</th>\n",
       "                        <td id=\"T_1c861382_b789_11eb_87be_544cf75f5f01row11_col0\" class=\"data row11 col0\" >192.3490</td>\n",
       "                        <td id=\"T_1c861382_b789_11eb_87be_544cf75f5f01row11_col1\" class=\"data row11 col1\" >3817809.5383</td>\n",
       "                        <td id=\"T_1c861382_b789_11eb_87be_544cf75f5f01row11_col2\" class=\"data row11 col2\" >384.2125</td>\n",
       "                        <td id=\"T_1c861382_b789_11eb_87be_544cf75f5f01row11_col3\" class=\"data row11 col3\" >0.0601</td>\n",
       "                        <td id=\"T_1c861382_b789_11eb_87be_544cf75f5f01row11_col4\" class=\"data row11 col4\" >0.0643</td>\n",
       "                        <td id=\"T_1c861382_b789_11eb_87be_544cf75f5f01row11_col5\" class=\"data row11 col5\" >0.0631</td>\n",
       "            </tr>\n",
       "    </tbody></table>"
      ],
      "text/plain": [
       "<pandas.io.formats.style.Styler at 0x1ce9cfb4b38>"
      ]
     },
     "metadata": {},
     "output_type": "display_data"
    }
   ],
   "source": [
    "# Model Training and Validation \n",
    "gbr = create_model('gbr')"
   ]
  },
  {
   "cell_type": "code",
   "execution_count": 8,
   "id": "e8ebe920",
   "metadata": {
    "ExecuteTime": {
     "end_time": "2021-05-18T03:28:28.967327Z",
     "start_time": "2021-05-18T03:28:28.281067Z"
    }
   },
   "outputs": [
    {
     "data": {
      "image/png": "[encoded data removed]",
      "text/plain": [
       "<Figure size 576x396 with 2 Axes>"
      ]
     },
     "metadata": {},
     "output_type": "display_data"
    }
   ],
   "source": [
    "# plot residuals of trained model\n",
    "plot_model(gbr, plot = 'residuals')"
   ]
  },
  {
   "cell_type": "code",
   "execution_count": 9,
   "id": "e5f2b884",
   "metadata": {
    "ExecuteTime": {
     "end_time": "2021-05-18T03:28:29.108602Z",
     "start_time": "2021-05-18T03:28:28.967327Z"
    }
   },
   "outputs": [
    {
     "name": "stdout",
     "output_type": "stream",
     "text": [
      "Transformation Pipeline and Model Succesfully Saved\n"
     ]
    },
    {
     "data": {
      "text/plain": [
       "(Pipeline(memory=None,\n",
       "          steps=[('dtypes',\n",
       "                  DataTypes_Auto_infer(categorical_features=[],\n",
       "                                       display_types=True, features_todrop=[],\n",
       "                                       id_columns=[], ml_usecase='regression',\n",
       "                                       numerical_features=[], target='charges',\n",
       "                                       time_features=[])),\n",
       "                 ('imputer',\n",
       "                  Simple_Imputer(categorical_strategy='not_available',\n",
       "                                 fill_value_categorical=None,\n",
       "                                 fill_value_numerical=None,\n",
       "                                 numeric_strategy...\n",
       "                                            learning_rate=0.1, loss='ls',\n",
       "                                            max_depth=3, max_features=None,\n",
       "                                            max_leaf_nodes=None,\n",
       "                                            min_impurity_decrease=0.0,\n",
       "                                            min_impurity_split=None,\n",
       "                                            min_samples_leaf=1,\n",
       "                                            min_samples_split=2,\n",
       "                                            min_weight_fraction_leaf=0.0,\n",
       "                                            n_estimators=100,\n",
       "                                            n_iter_no_change=None,\n",
       "                                            presort='deprecated',\n",
       "                                            random_state=123, subsample=1.0,\n",
       "                                            tol=0.0001, validation_fraction=0.1,\n",
       "                                            verbose=0, warm_start=False)]],\n",
       "          verbose=False),\n",
       " 'gbr.pkl')"
      ]
     },
     "execution_count": 9,
     "metadata": {},
     "output_type": "execute_result"
    }
   ],
   "source": [
    "# save transformation pipeline and model \n",
    "save_model(gbr, model_name = 'gbr')"
   ]
  },
  {
   "cell_type": "markdown",
   "id": "3a01df08",
   "metadata": {
    "ExecuteTime": {
     "end_time": "2021-05-17T09:36:31.139778Z",
     "start_time": "2021-05-17T09:36:31.126813Z"
    }
   },
   "source": [
    "# 在 local 端測試應用程式\n",
    "- 執行後應該可以在 terminal 看到：Running on http://127.0.0.1:5000/ (Press CTRL+C to quit)"
   ]
  },
  {
   "cell_type": "code",
   "execution_count": null,
   "id": "19081395",
   "metadata": {
    "ExecuteTime": {
     "start_time": "2021-05-18T03:27:45.103Z"
    }
   },
   "outputs": [
    {
     "name": "stdout",
     "output_type": "stream",
     "text": [
      "Transformation Pipeline and Model Successfully Loaded\n",
      " * Serving Flask app 'app' (lazy loading)\n",
      " * Environment: production\n",
      "\u001b[31m   WARNING: This is a development server. Do not use it in a production deployment.\u001b[0m\n",
      "\u001b[2m   Use a production WSGI server instead.\u001b[0m\n",
      " * Debug mode: on\n"
     ]
    },
    {
     "name": "stderr",
     "output_type": "stream",
     "text": [
      " * Restarting with stat\n"
     ]
    }
   ],
   "source": [
    "%run app.py"
   ]
  },
  {
   "cell_type": "code",
   "execution_count": null,
   "id": "6e8a5bc9",
   "metadata": {},
   "outputs": [],
   "source": []
  }
 ],
 "metadata": {
  "kernelspec": {
   "display_name": "pycaret_style",
   "language": "python",
   "name": "pycaret_style"
  },
  "language_info": {
   "codemirror_mode": {
    "name": "ipython",
    "version": 3
   },
   "file_extension": ".py",
   "mimetype": "text/x-python",
   "name": "python",
   "nbconvert_exporter": "python",
   "pygments_lexer": "ipython3",
   "version": "3.6.13"
  },
  "toc": {
   "base_numbering": 1,
   "nav_menu": {},
   "number_sections": true,
   "sideBar": true,
   "skip_h1_title": false,
   "title_cell": "Table of Contents",
   "title_sidebar": "Contents",
   "toc_cell": false,
   "toc_position": {},
   "toc_section_display": true,
   "toc_window_display": true
  },
  "varInspector": {
   "cols": {
    "lenName": 16,
    "lenType": 16,
    "lenVar": 40
   },
   "kernels_config": {
    "python": {
     "delete_cmd_postfix": "",
     "delete_cmd_prefix": "del ",
     "library": "var_list.py",
     "varRefreshCmd": "print(var_dic_list())"
    },
    "r": {
     "delete_cmd_postfix": ") ",
     "delete_cmd_prefix": "rm(",
     "library": "var_list.r",
     "varRefreshCmd": "cat(var_dic_list()) "
    }
   },
   "types_to_exclude": [
    "module",
    "function",
    "builtin_function_or_method",
    "instance",
    "_Feature"
   ],
   "window_display": false
  }
 },
 "nbformat": 4,
 "nbformat_minor": 5
}
